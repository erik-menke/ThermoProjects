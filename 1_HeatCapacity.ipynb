{
 "cells": [
  {
   "cell_type": "markdown",
   "id": "80bf06f0-0d5c-419f-a834-55c7081ec428",
   "metadata": {},
   "source": [
    "In this notebook we are going to explore heat capacity, and the common assumption we make that the constant pressure heat capacity for linear, ideal gases is $\\frac{7}{2} R$ and independent of temperature. The first thing to do is load some dependencies. For this notebook, I will need numpy, pyplot from matplotlib, and integrate from scipy."
   ]
  },
  {
   "cell_type": "code",
   "execution_count": 1,
   "id": "d1df312b-ecde-49cd-b96f-9e567ca8ff1e",
   "metadata": {},
   "outputs": [],
   "source": [
    "import numpy as np\n",
    "import matplotlib.pyplot as plt\n",
    "import scipy.integrate as integrate\n"
   ]
  },
  {
   "cell_type": "markdown",
   "id": "5992c6bf-4bfa-4a65-9725-4acd8e6b966c",
   "metadata": {},
   "source": [
    "In the box below, I define a variety of constants that I will need throughout this notebook, like different values of the gas constant, R."
   ]
  },
  {
   "cell_type": "code",
   "execution_count": 2,
   "id": "fd0354dc-37b2-4009-9a08-7b8ee749ee04",
   "metadata": {},
   "outputs": [],
   "source": [
    "barL_R = 0.083144\n",
    "joule_R = 8.3144\n",
    "atmL_R = 0.082057\n"
   ]
  },
  {
   "cell_type": "markdown",
   "id": "9f533932-800d-4a56-9c01-48eb3678e402",
   "metadata": {},
   "source": [
    "While we often treat gases ideally, the constant pressure molar heat capacity is a non-linear function of temperature, typically modeled using the Shomate equation, where $C_p = a_1 + a_2 \\frac{T}{1000} + a_3 (\\frac{T}{1000})^{2} + a_4 (\\frac{T}{1000})^{3} + a_5 (\\frac{T}{1000})^{-2}$ and the coefficients are tabulated a number of places, such as the [NIST chemistry webbook](https://webbook.nist.gov/chemistry/). For example, the coefficients for [gaseous oxygen](https://webbook.nist.gov/cgi/cbook.cgi?ID=C7782447&Type=JANAFG&Plot=on) are $a_1 = 31.32234, a_2 = -20.23531, a_3 = 57.86644, a_4 = -36.50624, a_5 = -0.007374$. In the box below, write a function that takes six inputs, one for each coefficient and the temperature in Kelvin, and returns the constant pressure heat capacity in $\\frac{J}{K mol}$"
   ]
  },
  {
   "cell_type": "code",
   "execution_count": null,
   "id": "24207925-5c8a-4842-9552-94ecd22c5d0f",
   "metadata": {},
   "outputs": [],
   "source": []
  },
  {
   "cell_type": "markdown",
   "id": "f1d9b13d-2816-4a23-9f8a-bb0ab9282c7a",
   "metadata": {},
   "source": [
    "Test your function below by printing the constant pressure molar heat capacity for argon, nitrogen, and carbon dioxide at 350K in the space below."
   ]
  },
  {
   "cell_type": "code",
   "execution_count": null,
   "id": "ef35b9ab-32a8-4762-b4f8-0173b8bb3a9a",
   "metadata": {},
   "outputs": [],
   "source": []
  },
  {
   "cell_type": "markdown",
   "id": "0c1958de-9240-4be2-bff1-7a128e03114a",
   "metadata": {},
   "source": [
    "Argon is an atomic gas, and so when we treat it ideally we expect it to have a constant pressure molar heat capacity of $\\frac{5}{2} R = 20.785 \\frac{J}{K mol}$ that is independent of temperature. Similarly, carbon dioxide and nitrogen are both linear gas molecules, and so if we treat them ideally we expect both of them to have a constant pressure molar heat capacity of $\\frac{7}{2} R = 29.011 \\frac{J}{K mol}$ that doesn't depend on temperature. If your function works correctly, you can see that, at 350 K, argon and nitrogen have heat capacities similar to what we expect from an ideal gas but carbon dioxide doesn't. Let's take a look at the temperature dependence on the heat capacity to see how strongly they depend on temperature. In the box below, graph the heat capacity for argon, nitrogen, and carbon dioxide from 300 to 500 K on a single graph to compare their temperature dependence."
   ]
  },
  {
   "cell_type": "code",
   "execution_count": null,
   "id": "a3510690-3034-426a-a974-5dcc8d818b9a",
   "metadata": {},
   "outputs": [],
   "source": []
  },
  {
   "cell_type": "markdown",
   "id": "2657ade2-684d-4140-bf1f-70093591428a",
   "metadata": {},
   "source": [
    "As you can see from the graph, argon and nitrogen have heat capacities very similar to what we would expect for an ideal gas over a wide temperature range. carbon dioxide, on the other hand, deviates pretty significantly from ideal behavior. For fun, let's compare the heat capacity of $CO_2$ with $H_2O$ vapor. Graph the heat capacity of $CO_2$ and $H_2O$ vapor from 500 to 700 K. These results should be surprising to you, particularly if you remember that, when treated ideally, water vapor has a constant pressure molar heat capacity of $4R$ and carbon dioxide has a heat capacity of $\\frac{7}{2}R$."
   ]
  },
  {
   "cell_type": "code",
   "execution_count": null,
   "id": "21937222-cc73-4ef5-8078-f3001e6fb599",
   "metadata": {},
   "outputs": [],
   "source": []
  },
  {
   "cell_type": "markdown",
   "id": "c68b3d9c-6b07-4509-b986-e2fa600869e2",
   "metadata": {},
   "source": [
    "Let's see how much the energy it takes to heat carbon dioxide up from 300 K to 500 K. Formally, heat capacity is defined as $C = \\frac{dq}{dT}$, and so to calculate the amount of energy it takes to change temperature, we would do some minor manipulation of the equation to get $dq = CdT$ and then integrate both sides, making the assumption that C is independent of T to take it out of the integral, to get $q = C \\Delta T$. Using this result for carbon dioxide, we would expect it to take abou 5820 joules per mole to heat carbon dioxide gas from 300 K to 500 K. However, as we've seen so far, assuming C is independent of T isn't always a good assumption, so let's do this correctly. To do this, we need to solve the integral $q = \\int_{T_i}^{T_f} C_p dT$, where we're now using the constant pressure heat capacity instead of a generic heat capacity I had above. Because our expression for the heat capacity is a polynomial, we could solve this integral by hand without *too* much trouble, but it would still take a lot of paper and time. However, with the power of computers we can have python do the integration for us! To do this, we will want to use the integrate.quad() function that is part of the [SciPy package](https://docs.scipy.org/doc/scipy/reference/generated/scipy.integrate.quad.html). This is a pretty straightforward function to use, but it can be a little tricky because we typically will use a temporary function (called a [lambda function](https://www.w3schools.com/python/python_lambda.asp) in python). Because of that, I've left my code in the box below so that you can see what it looks like so you have something to base your code off of."
   ]
  },
  {
   "cell_type": "code",
   "execution_count": 11,
   "id": "47a431d1-9cb0-4841-b75f-029c02d9abf3",
   "metadata": {},
   "outputs": [
    {
     "name": "stdout",
     "output_type": "stream",
     "text": [
      "Heating carbon dioxide from 300 to 500 K requires 8239.8 joules of heat per mole\n"
     ]
    }
   ],
   "source": [
    "intResult, intError = integrate.quad(lambda T: heatCap_P(24.99735, 55.18696, -33.69137, 7.948387, -0.136638, T), 300, 500)\n",
    "\n",
    "print('Heating carbon dioxide from 300 to 500 K requires {:.1f} joules of heat per mole'.format(intResult))\n"
   ]
  },
  {
   "cell_type": "markdown",
   "id": "f21b64d8-faa0-45ea-87a9-b791fe1a0e21",
   "metadata": {},
   "source": [
    "Finally, let's see how much the entropy changes in a sample of $CO_2$ when we heat it from 300 K to 500 K. Hopefully you remember that $\\Delta S = \\int_{i}^{f} \\frac{dq_{rev}}{T}$. Since we are heating up a gas, the reversible heat that flows for a small change is equal to the heat capacity times a small change in temperature. I.e. $dq_{rev} = C_p dT$. This leads us to the following expression for a change in entropy due to heating: $\\Delta S = \\int_{T_i}^{T_f} \\frac{C_p dT}{T}$. As above, because our expression for the heat capacity is a polynomial we could solve this integral by hand, but we would usually just assume that it is independent of heat to arrive at $\\Delta S = C_p ln\\frac{T_f}{T_i}$. Since we just saw how to use python to solve integrals, though, let's calculate entropy properly and compare it to what we calculate if we assume the heat capacity is independent of temperature, which, in the case of carbon dioxide, would be an entropy change of 14.86 joules per kelvin per mole."
   ]
  },
  {
   "cell_type": "code",
   "execution_count": 6,
   "id": "e67ae012-3bb9-4c03-a441-6a801c1338e1",
   "metadata": {},
   "outputs": [
    {
     "name": "stdout",
     "output_type": "stream",
     "text": [
      "Heating carbon dioxide from 300 to 400 K leads to an entropy change of 20.885 joules per mole per kelvin\n"
     ]
    }
   ],
   "source": [
    "intResult, intError = integrate.quad(lambda T: heatCap_P(24.99735, 55.18696, -33.69137, 7.948387, -0.136638, T)/T, 300, 500)\n",
    "\n",
    "print('Heating carbon dioxide from 300 to 500 K leads to an entropy change of {:.3f} joules per mole per kelvin'.format(intResult))\n"
   ]
  },
  {
   "cell_type": "code",
   "execution_count": null,
   "id": "4951650b-4c44-45cf-9382-019e918b634b",
   "metadata": {},
   "outputs": [],
   "source": []
  }
 ],
 "metadata": {
  "kernelspec": {
   "display_name": "Python 3 (ipykernel)",
   "language": "python",
   "name": "python3"
  },
  "language_info": {
   "codemirror_mode": {
    "name": "ipython",
    "version": 3
   },
   "file_extension": ".py",
   "mimetype": "text/x-python",
   "name": "python",
   "nbconvert_exporter": "python",
   "pygments_lexer": "ipython3",
   "version": "3.13.5"
  }
 },
 "nbformat": 4,
 "nbformat_minor": 5
}
