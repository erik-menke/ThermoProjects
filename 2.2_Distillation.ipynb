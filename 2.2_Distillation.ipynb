{
 "cells": [
  {
   "cell_type": "markdown",
   "id": "80bf06f0-0d5c-419f-a834-55c7081ec428",
   "metadata": {},
   "source": [
    "In this notebook we are going to plot the temperature vs. composition liquid-liquid binary phase diagram for an ideal mixture of two liquids, hexane and octane. As always, the first thing to do is load some dependencies. For this notebook, we will need numpy,  pyplot from matplotlib, and fsolve from scipy."
   ]
  },
  {
   "cell_type": "code",
   "execution_count": 1,
   "id": "d1df312b-ecde-49cd-b96f-9e567ca8ff1e",
   "metadata": {},
   "outputs": [],
   "source": [
    "import numpy as np\n",
    "import matplotlib.pyplot as plt\n",
    "from scipy.optimize import fsolve\n"
   ]
  },
  {
   "cell_type": "markdown",
   "id": "9f533932-800d-4a56-9c01-48eb3678e402",
   "metadata": {},
   "source": [
    "The first thing we'll need for this notebook is to be able to calculate the vapor pressure of a liquid at a given temperature, i.e. the Clausius-Clapeyron equation. In the space below, write a function that has four inputs, starting pressure, starting temperature, final temperature, and enthalpy of vaporization, and returns the vapor pressure (in bar) calculated with the Clausius-Clapeyron equation. As a reminder, the Clausius-Clapeyron equation is $ln\\frac{P_2}{P_1} = -\\frac{\\Delta H}{R}(\\frac{1}{T_2} - \\frac{1}{T_1})$."
   ]
  },
  {
   "cell_type": "code",
   "execution_count": null,
   "id": "24207925-5c8a-4842-9552-94ecd22c5d0f",
   "metadata": {},
   "outputs": [],
   "source": []
  },
  {
   "cell_type": "markdown",
   "id": "f1d9b13d-2816-4a23-9f8a-bb0ab9282c7a",
   "metadata": {},
   "source": [
    "Check your function to make sure that it working properly by graphing the vapor pressure of water from 300 to 373 K below. The graph should rise exponentially from a value close to zero at 300 K to a value close to one at 373 K. The enthalpy of vaporization for water is temperature dependent over this range, but picking a value in the middle of the range and keeping it constant will work for our purposes. For example, I used $\\Delta$H = 42.738 $\\frac{kJ}{mol}$, with a boiling temperature of 373.15 K at 1.0142 bar."
   ]
  },
  {
   "cell_type": "code",
   "execution_count": null,
   "id": "ef35b9ab-32a8-4762-b4f8-0173b8bb3a9a",
   "metadata": {},
   "outputs": [],
   "source": []
  },
  {
   "cell_type": "markdown",
   "id": "20ae14fd-cd89-4e09-9eb6-bb31ce5af5b7",
   "metadata": {},
   "source": [
    "Now that you have a function that can calculate vapor pressure of a compound given a temperature and an enthalpy of vaporization, we can use that function to implement Raoult's law, which will tell us the vapor pressure of a mixture of liquids. As a reminder, Raoult's law tells us that the vapor pressure for one component in a mixture, $P_{A}$ is equal to the vapor pressure of the pure liquid, $P^{*}$, times the mole fraction of the liquid in the mixture, $X_{A}$. I.e. $P_{A} = X_{A} P^{*}$. In the space below, write a function that takes six inputs, temperature, mole fraction of component A, the boiling temperature of component A at 1 atm (or 1.0142 bar), the enthalpy of vaporization for component A, the boiling temperature of component B, and the enthalpy of vaporization for component B, calculates the vapor pressure of component A and the vapor pressure of component B and then returns the total vapor pressure of the mixture (i.e. the sum of both vapor pressures)."
   ]
  },
  {
   "cell_type": "code",
   "execution_count": null,
   "id": "bad5cacd-1971-46b1-9d51-8a984a557f0e",
   "metadata": {},
   "outputs": [],
   "source": []
  },
  {
   "cell_type": "markdown",
   "id": "9559fb99-7187-4dce-82a3-789bea68e8f3",
   "metadata": {},
   "source": [
    "Test your new Raoult's law function to find the vapor pressure for a mixture of hexane and octane at 342 K that has a 0.5 mole fraction of hexane. For hexane, $\\Delta H_{vap} = 29 \\frac{kJ}{mol}$ at its normal boiling point of 69 $^oC$ while, for octane, $\\Delta H_{vap} = 39 \\frac{kJ}{mol}$ at its normal boiling point of 126 $^oC$. For comparison, the vapor pressure I calculate is 0.58 bar."
   ]
  },
  {
   "cell_type": "code",
   "execution_count": null,
   "id": "d106a03d-d251-4c02-a812-ab498949e4c7",
   "metadata": {},
   "outputs": [],
   "source": []
  },
  {
   "cell_type": "markdown",
   "id": "d6dd9b2c-be83-4b34-a64a-e57b63e19ebe",
   "metadata": {},
   "source": [
    "In the space below, graph the vapor pressure for a hexane:octane mixture at 300 K, with the mole fraction of octane ranging from 0 to 1. For what it's worth, my graph is a straight line going down from ~0.25 bar to less than 0.05 bar as the mole fraction of octane goes from 0 to 1."
   ]
  },
  {
   "cell_type": "code",
   "execution_count": null,
   "id": "e245b357-9fd8-4eaf-aff5-d163c1017a49",
   "metadata": {},
   "outputs": [],
   "source": [
    "  "
   ]
  },
  {
   "cell_type": "markdown",
   "id": "16dd84ba-a653-4977-a0c2-8fea79f8c7cd",
   "metadata": {},
   "source": [
    "Now that you have a working function that implements Raoult's law to find the total vapor pressure for a mixture of liquids, we want to use that function to find the temperature where a mixture has the same vapor pressure as atmospheric pressure (1.0142 bar). In other words, we want to find the boiling temperature for any mixture of liquids. To do this, we are going to use the fsolve() function, similar to what you did in the previous notebook to find the adiabatic flame temperature. However, there is a minor problem in doing this. The fsolve() function finds the value where a given function is equal to zero and we want to know where your Raoult's law function is equal to a given pressure, like 1.0142 bar for example. So, to be able to use fsolve() with your Raoult's law function, you need to write a *new* function that has all the same inputs as your Raoult's law function, plus a pressure, and returns the difference between your Raoult's law function and the input pressure."
   ]
  },
  {
   "cell_type": "code",
   "execution_count": null,
   "id": "4d25ac6b-8ce5-464f-a8e2-20a383e616c2",
   "metadata": {},
   "outputs": [],
   "source": []
  },
  {
   "cell_type": "markdown",
   "id": "ad6bbac2-522b-4e8c-a78e-77bc3e2aa938",
   "metadata": {},
   "source": [
    "Now that you have written a function that finds the difference between your Raoult's law function and an input pressure, let's test it to make sure that it works with the fsolve() function. Use your new function in fsolve() to find the boiling temperature for a 0.3:0.7 mol ratio mixture of octane:hexane when the atmospheric pressure is 1.0142 bar. Be sure to also tell the fsolve() function all the other arguments, and to take the first entry in the returned array as your boiling temperature!"
   ]
  },
  {
   "cell_type": "code",
   "execution_count": null,
   "id": "24afe168-ae79-45cd-a577-b96d8b8ed377",
   "metadata": {},
   "outputs": [],
   "source": []
  },
  {
   "cell_type": "markdown",
   "id": "d364fa1a-ea22-4f8e-8ded-7a9df4cb54be",
   "metadata": {},
   "source": [
    "Now that you can find the boiling temperature for any mole ratio mixture of octane:hexane, let's plot the boiling temperature for all the mole ratios from 0 to 1 of octane in hexane. Because this uses fsolve(), you'll need to use a for loop to get all your temperatures, similar to the for loop I used in the adiabatic flame temperature notebook for the heat required vs temperature graph. In summary, you will want to create an xrange from 0 to 1, which will be the mole fraction of octane, as well as an empty array for your boiling temperature. Then, in a for loop, use the fsolve() function, similar to what you did above, for each mole fraction in the xrange to find the boiling temperature of your mixture, and add that to your boiling temperature array. Finally, you can use the xrange array and boiling temperature array as the x and y values for a plot of mole fraction vs. temperature. Make sure that you also label the x and y axes with something that makes sense."
   ]
  },
  {
   "cell_type": "code",
   "execution_count": null,
   "id": "a94b25ac-4612-462b-843b-a5aabb3ca25d",
   "metadata": {},
   "outputs": [],
   "source": []
  },
  {
   "cell_type": "markdown",
   "id": "ff8c7caf-eb5f-40fa-9529-c154ba604c20",
   "metadata": {},
   "source": [
    "Now for the final piece of the octane:hexane liquid-liquid binary phase diagram. In the graph above, you are showing the boiling temperature for every mole fraction mixture of octane in hexane. To this graph we want to add the composition of the vapor at these temperatures, which we can calculate using the Clausius-Clapeyron equation that you defined earlier. To achieve this, use the code from above, but add another empty array for the mole fraction of the vapor. Then, in the for loop, after you find the boiling temperature you can use that  temperature to find the vapor pressure of octane at that temperature, and multiply it by the mole fraction to find the vapor pressure of octane in the mixture. Dalton's law tells us that the mole fraction of octane in the gas phase is just the vapor pressure of octane divided by the total pressure, which is 1.0142 bar. Therefore, you can calculate the mole fraction of octane in the vapor phase and add it to the mole fraction array. Once you've done that for all the mole fractions you can create a plot with two curves, one of your xrange array vs the boiling temperature array, and one of your mole fraction array vs the boiling temperature array. The graph of both will be the binary phase diagram for octane in hexane, which you could then use as a way to predict the distillation of an octane:hexane mixture."
   ]
  },
  {
   "cell_type": "code",
   "execution_count": null,
   "id": "e2d08efa-6cab-4536-a278-327f22dd0880",
   "metadata": {},
   "outputs": [],
   "source": []
  },
  {
   "cell_type": "code",
   "execution_count": null,
   "id": "2002a55b-1eda-4924-8efd-6d5fe00a5fa0",
   "metadata": {},
   "outputs": [],
   "source": []
  }
 ],
 "metadata": {
  "kernelspec": {
   "display_name": "Python 3 (ipykernel)",
   "language": "python",
   "name": "python3"
  },
  "language_info": {
   "codemirror_mode": {
    "name": "ipython",
    "version": 3
   },
   "file_extension": ".py",
   "mimetype": "text/x-python",
   "name": "python",
   "nbconvert_exporter": "python",
   "pygments_lexer": "ipython3",
   "version": "3.13.5"
  }
 },
 "nbformat": 4,
 "nbformat_minor": 5
}
